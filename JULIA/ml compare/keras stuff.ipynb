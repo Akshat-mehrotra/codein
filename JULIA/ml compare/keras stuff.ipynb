{
 "cells": [
  {
   "cell_type": "code",
   "execution_count": 73,
   "metadata": {},
   "outputs": [],
   "source": [
    "import keras\n",
    "import numpy as np\n",
    "from skimage.io import imread\n",
    "import time\n",
    "\n",
    "img = np.reshape(imread(\"G:\\\\Book-Cover-Test\\\\img20.png\"), (1,500, 425, 3))\n",
    "flatimg = np.reshape(img,(1,500* 425* 3))\n",
    "def doostuff(f, data=False,  ):\n",
    "    if type(data) != bool:\n",
    "        times = [] \n",
    "        for _ in range(10):\n",
    "            t = time.time()\n",
    "            f.predict([data])\n",
    "            times.append(time.time()-t)\n",
    "        return np.mean(times)\n",
    "    else:\n",
    "        times = [] \n",
    "        for _ in range(10):\n",
    "            t = time.time()\n",
    "            f.predict([img])\n",
    "            times.append(time.time()-t)\n",
    "        return np.mean(times)\n",
    "        "
   ]
  },
  {
   "cell_type": "code",
   "execution_count": 74,
   "metadata": {},
   "outputs": [
    {
     "data": {
      "text/plain": [
       "0.04158930778503418"
      ]
     },
     "execution_count": 74,
     "metadata": {},
     "output_type": "execute_result"
    }
   ],
   "source": [
    "Convm = keras.Sequential([\n",
    "    keras.layers.Conv2D(100, (10,10), activation='relu', strides=(3,3), input_shape=(500, 425, 3))\n",
    "])\n",
    "Convm.compile(loss='categorical_crossentropy', optimizer=\"sgd\")\n",
    "doostuff(Convm)"
   ]
  },
  {
   "cell_type": "code",
   "execution_count": 76,
   "metadata": {},
   "outputs": [
    {
     "data": {
      "text/plain": [
       "0.034908509254455565"
      ]
     },
     "execution_count": 76,
     "metadata": {},
     "output_type": "execute_result"
    }
   ],
   "source": [
    "Meanpoolm = keras.Sequential([\n",
    "    keras.layers.AveragePooling2D((100,100), input_shape=(500, 425, 3))\n",
    "])\n",
    "Convm.compile(loss='categorical_crossentropy', optimizer=\"sgd\")\n",
    "doostuff(Convm)"
   ]
  },
  {
   "cell_type": "code",
   "execution_count": 34,
   "metadata": {},
   "outputs": [
    {
     "name": "stdout",
     "output_type": "stream",
     "text": [
      "WARNING:tensorflow:From f:\\python\\lib\\site-packages\\keras\\backend\\tensorflow_backend.py:4070: The name tf.nn.max_pool is deprecated. Please use tf.nn.max_pool2d instead.\n",
      "\n"
     ]
    },
    {
     "data": {
      "text/plain": [
       "0.1472097635269165"
      ]
     },
     "execution_count": 34,
     "metadata": {},
     "output_type": "execute_result"
    }
   ],
   "source": [
    "Maxpoolm = keras.Sequential([\n",
    "    keras.layers.MaxPool2D((100,100), input_shape=(500, 425, 3))\n",
    "])\n",
    "Convm.compile(loss='categorical_crossentropy', optimizer=\"sgd\")\n",
    "doostuff(Convm)"
   ]
  },
  {
   "cell_type": "code",
   "execution_count": 77,
   "metadata": {},
   "outputs": [
    {
     "data": {
      "text/plain": [
       "0.024235057830810546"
      ]
     },
     "execution_count": 77,
     "metadata": {},
     "output_type": "execute_result"
    }
   ],
   "source": [
    "depthwisem = keras.Sequential([\n",
    "    keras.layers.DepthwiseConv2D((10,10), strides=(3,3), activation=\"relu\",)\n",
    "])\n",
    "Convm.compile(loss='categorical_crossentropy', optimizer=\"sgd\")\n",
    "doostuff(depthwisem)"
   ]
  },
  {
   "cell_type": "code",
   "execution_count": 78,
   "metadata": {},
   "outputs": [
    {
     "data": {
      "text/plain": [
       "0.4508960247039795"
      ]
     },
     "execution_count": 78,
     "metadata": {},
     "output_type": "execute_result"
    }
   ],
   "source": [
    "Transposem = keras.Sequential([\n",
    "    keras.layers.Conv2DTranspose(36, (10,10), strides=(3,3), activation=\"relu\",)\n",
    "])\n",
    "Convm.compile(loss='categorical_crossentropy', optimizer=\"sgd\")\n",
    "doostuff(Transposem)"
   ]
  },
  {
   "cell_type": "code",
   "execution_count": 79,
   "metadata": {},
   "outputs": [
    {
     "data": {
      "text/plain": [
       "0.03690392971038818"
      ]
     },
     "execution_count": 79,
     "metadata": {},
     "output_type": "execute_result"
    }
   ],
   "source": [
    "Batchm = keras.Sequential([\n",
    "    keras.layers.BatchNormalization()\n",
    "])\n",
    "Convm.compile(loss='categorical_crossentropy', optimizer=\"sgd\")\n",
    "doostuff(Batchm)"
   ]
  },
  {
   "cell_type": "code",
   "execution_count": 80,
   "metadata": {},
   "outputs": [
    {
     "data": {
      "text/plain": [
       "0.02921903133392334"
      ]
     },
     "execution_count": 80,
     "metadata": {},
     "output_type": "execute_result"
    }
   ],
   "source": [
    "dropoutm = keras.Sequential([\n",
    "    keras.layers.Dropout(0.5)\n",
    "])\n",
    "Convm.compile(loss='categorical_crossentropy', optimizer=\"sgd\")\n",
    "doostuff(dropoutm)"
   ]
  },
  {
   "cell_type": "code",
   "execution_count": 81,
   "metadata": {},
   "outputs": [
    {
     "data": {
      "text/plain": [
       "0.03011906147003174"
      ]
     },
     "execution_count": 81,
     "metadata": {},
     "output_type": "execute_result"
    }
   ],
   "source": [
    "densem = keras.Sequential([\n",
    "    keras.layers.Dense(20)\n",
    "])\n",
    "Convm.compile(loss='categorical_crossentropy', optimizer=\"sgd\")\n",
    "doostuff(densem,data=flatimg)"
   ]
  },
  {
   "cell_type": "code",
   "execution_count": 91,
   "metadata": {},
   "outputs": [
    {
     "data": {
      "text/plain": [
       "2.714402604103088"
      ]
     },
     "execution_count": 91,
     "metadata": {},
     "output_type": "execute_result"
    }
   ],
   "source": [
    "lstmm = keras.Sequential([\n",
    "    keras.layers.LSTM(3)\n",
    "])\n",
    "Convm.compile(loss='categorical_crossentropy', optimizer=\"sgd\")\n",
    "doostuff(lstmm,data=np.reshape(img,(500, 425, 3)))"
   ]
  },
  {
   "cell_type": "code",
   "execution_count": 92,
   "metadata": {},
   "outputs": [
    {
     "data": {
      "text/plain": [
       "2.211240553855896"
      ]
     },
     "execution_count": 92,
     "metadata": {},
     "output_type": "execute_result"
    }
   ],
   "source": [
    "rnnm = keras.Sequential([\n",
    "    keras.layers.SimpleRNN(3)\n",
    "])\n",
    "Convm.compile(loss='categorical_crossentropy', optimizer=\"sgd\")\n",
    "doostuff(rnnm,data=np.reshape(img,(500, 425, 3)))"
   ]
  },
  {
   "cell_type": "code",
   "execution_count": 93,
   "metadata": {},
   "outputs": [
    {
     "data": {
      "text/plain": [
       "3.1127854585647583"
      ]
     },
     "execution_count": 93,
     "metadata": {},
     "output_type": "execute_result"
    }
   ],
   "source": [
    "gru = keras.Sequential([\n",
    "    keras.layers.GRU(3)\n",
    "])\n",
    "Convm.compile(loss='categorical_crossentropy', optimizer=\"sgd\")\n",
    "doostuff(gru,data=np.reshape(img,(500, 425, 3)))"
   ]
  },
  {
   "cell_type": "code",
   "execution_count": null,
   "metadata": {},
   "outputs": [],
   "source": []
  }
 ],
 "metadata": {
  "kernelspec": {
   "display_name": "Python 3",
   "language": "python",
   "name": "python3"
  },
  "language_info": {
   "codemirror_mode": {
    "name": "ipython",
    "version": 3
   },
   "file_extension": ".py",
   "mimetype": "text/x-python",
   "name": "python",
   "nbconvert_exporter": "python",
   "pygments_lexer": "ipython3",
   "version": "3.7.4"
  }
 },
 "nbformat": 4,
 "nbformat_minor": 2
}
