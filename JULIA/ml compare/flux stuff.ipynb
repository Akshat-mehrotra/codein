{
 "cells": [
  {
   "cell_type": "code",
   "execution_count": 24,
   "metadata": {},
   "outputs": [
    {
     "data": {
      "text/plain": [
       "dostuff (generic function with 1 method)"
      ]
     },
     "execution_count": 24,
     "metadata": {},
     "output_type": "execute_result"
    }
   ],
   "source": [
    "using Flux\n",
    "using Images\n",
    "using Statistics\n",
    "\n",
    "img = load(\"G:\\\\Book-Cover-Test\\\\img20.png\")\n",
    "img = permutedims(channelview(img), (2,3,1))\n",
    "img = Float32.(img)\n",
    "\n",
    "data = Array{Float32}(undef, 500,425,3,1)\n",
    "data[:,:,:,1] = img\n",
    "\n",
    "flatdata = Array{Float32}(undef, 500*425*3,1)\n",
    "flatdata[:,1] = reshape(img, 500*425*3)\n",
    "\n",
    "function dostuff(f, d)\n",
    "    times = []\n",
    "    for _ in 1:10\n",
    "        t = @elapsed f(d)\n",
    "        push!(times,t)\n",
    "    end\n",
    "    return mean(times)\n",
    "end\n"
   ]
  },
  {
   "cell_type": "code",
   "execution_count": 38,
   "metadata": {},
   "outputs": [
    {
     "data": {
      "text/plain": [
       "0.20339787009999996"
      ]
     },
     "execution_count": 38,
     "metadata": {},
     "output_type": "execute_result"
    }
   ],
   "source": [
    "Conv_model = Chain(\n",
    "            Conv((10,10), 3=>100,pad=(1,1),stride=(3,3), relu)\n",
    ")\n",
    "dostuff(Conv_model, data)\n"
   ]
  },
  {
   "cell_type": "code",
   "execution_count": 53,
   "metadata": {},
   "outputs": [
    {
     "data": {
      "text/plain": [
       "0.0014615401000000001"
      ]
     },
     "execution_count": 53,
     "metadata": {},
     "output_type": "execute_result"
    }
   ],
   "source": [
    "\n",
    "Maxpool_model = Chain(\n",
    "            MaxPool((100,100))\n",
    ")\n",
    "dostuff(Maxpool_model,data)\n"
   ]
  },
  {
   "cell_type": "code",
   "execution_count": 52,
   "metadata": {},
   "outputs": [
    {
     "data": {
      "text/plain": [
       "0.0015527497"
      ]
     },
     "execution_count": 52,
     "metadata": {},
     "output_type": "execute_result"
    }
   ],
   "source": [
    "Meanpool_model = Chain(\n",
    "            MeanPool((100,100))\n",
    ")\n",
    "dostuff(Meanpool_model,data)"
   ]
  },
  {
   "cell_type": "code",
   "execution_count": 41,
   "metadata": {},
   "outputs": [
    {
     "data": {
      "text/plain": [
       "0.0722262898"
      ]
     },
     "execution_count": 41,
     "metadata": {},
     "output_type": "execute_result"
    }
   ],
   "source": [
    "\n",
    "Depthwise_model = Chain(\n",
    "    DepthwiseConv((10,10), 3=>96,pad=(1,1), stride=(3,3),relu)\n",
    ")\n",
    "dostuff(Depthwise_model,data)\n"
   ]
  },
  {
   "cell_type": "code",
   "execution_count": 42,
   "metadata": {},
   "outputs": [
    {
     "data": {
      "text/plain": [
       "4.8200052096"
      ]
     },
     "execution_count": 42,
     "metadata": {},
     "output_type": "execute_result"
    }
   ],
   "source": [
    "ConvTranspose_model = Chain(\n",
    "            ConvTranspose((10,10), 3=>36,pad=(1,1), stride=(3,3), relu)\n",
    ")\n",
    "dostuff(ConvTranspose_model,data)\n"
   ]
  },
  {
   "cell_type": "code",
   "execution_count": 43,
   "metadata": {},
   "outputs": [
    {
     "data": {
      "text/plain": [
       "0.42018791999999994"
      ]
     },
     "execution_count": 43,
     "metadata": {},
     "output_type": "execute_result"
    }
   ],
   "source": [
    "CrossCor_model= Chain(\n",
    "            CrossCor((10,10), 3=>100,pad=(1,1), relu)\n",
    ")\n",
    "dostuff(CrossCor_model,data)\n"
   ]
  },
  {
   "cell_type": "code",
   "execution_count": 46,
   "metadata": {},
   "outputs": [
    {
     "data": {
      "text/plain": [
       "0.1382069398"
      ]
     },
     "execution_count": 46,
     "metadata": {},
     "output_type": "execute_result"
    }
   ],
   "source": [
    "BatchNorm_model = Chain(\n",
    "            Conv((5,5), 3=>40,pad=(1,1), relu),\n",
    "            BatchNorm(40, relu)\n",
    ")\n",
    "dostuff(BatchNorm_model,data)"
   ]
  },
  {
   "cell_type": "code",
   "execution_count": 51,
   "metadata": {},
   "outputs": [
    {
     "data": {
      "text/plain": [
       "0.05176838"
      ]
     },
     "execution_count": 51,
     "metadata": {},
     "output_type": "execute_result"
    }
   ],
   "source": [
    "\n",
    "Dropout_model = Chain(\n",
    "            Dense(500*425*3, 100, relu),\n",
    "            Dropout(0.5),\n",
    "            Dense(100, 10, relu),\n",
    ")\n",
    "dostuff(Dropout_model,flatdata)\n"
   ]
  },
  {
   "cell_type": "code",
   "execution_count": 48,
   "metadata": {},
   "outputs": [
    {
     "data": {
      "text/plain": [
       "0.0231401701"
      ]
     },
     "execution_count": 48,
     "metadata": {},
     "output_type": "execute_result"
    }
   ],
   "source": [
    "Dense_model = Chain(\n",
    "                Dense(500*425*3,20, relu)\n",
    ")\n",
    "dostuff(Dense_model,flatdata)\n"
   ]
  },
  {
   "cell_type": "code",
   "execution_count": 49,
   "metadata": {},
   "outputs": [
    {
     "data": {
      "text/plain": [
       "0.007619559699999999"
      ]
     },
     "execution_count": 49,
     "metadata": {},
     "output_type": "execute_result"
    }
   ],
   "source": [
    "\n",
    "LSTM_model = Chain(\n",
    "    LSTM(500*425*3,3)\n",
    ")\n",
    "dostuff(LSTM_model,flatdata)\n"
   ]
  },
  {
   "cell_type": "code",
   "execution_count": 50,
   "metadata": {},
   "outputs": [
    {
     "data": {
      "text/plain": [
       "0.0028059902000000005"
      ]
     },
     "execution_count": 50,
     "metadata": {},
     "output_type": "execute_result"
    }
   ],
   "source": [
    "RNN_model = Chain(\n",
    "                RNN(500*425*3,3)\n",
    ")\n",
    "dostuff(RNN_model,flatdata)\n"
   ]
  },
  {
   "cell_type": "code",
   "execution_count": 61,
   "metadata": {},
   "outputs": [
    {
     "data": {
      "text/plain": [
       "0.007091450000000001"
      ]
     },
     "execution_count": 61,
     "metadata": {},
     "output_type": "execute_result"
    }
   ],
   "source": [
    "GRU_model = Chain(\n",
    "    GRU(500*425*3,3)\n",
    ")\n",
    "dostuff(GRU_model,flatdata)\n"
   ]
  },
  {
   "cell_type": "code",
   "execution_count": null,
   "metadata": {},
   "outputs": [],
   "source": []
  },
  {
   "cell_type": "code",
   "execution_count": null,
   "metadata": {},
   "outputs": [],
   "source": []
  }
 ],
 "metadata": {
  "@webio": {
   "lastCommId": null,
   "lastKernelId": null
  },
  "kernelspec": {
   "display_name": "Julia 1.0.5",
   "language": "julia",
   "name": "julia-1.0"
  },
  "language_info": {
   "file_extension": ".jl",
   "mimetype": "application/julia",
   "name": "julia",
   "version": "1.0.5"
  }
 },
 "nbformat": 4,
 "nbformat_minor": 2
}
