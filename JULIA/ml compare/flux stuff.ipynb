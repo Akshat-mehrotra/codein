{
 "cells": [
  {
   "cell_type": "markdown",
   "metadata": {},
   "source": [
    "# Benchmarking Models In Flux\n",
    "In this file we will be benchmarking the following\n",
    "   - Conv\n",
    "   - DepthwiseConv\n",
    "   - ConvTranspose\n",
    "   - Dense\n",
    "   - LSTM\n",
    "   - RNN\n",
    "   - Normalization Layers\n",
    "    - GNU\n",
    "    - Batch Norm\n",
    "    - Dropout\n",
    "   - CrossCor"
   ]
  },
  {
   "cell_type": "code",
   "execution_count": 2,
   "metadata": {},
   "outputs": [
    {
     "name": "stderr",
     "output_type": "stream",
     "text": [
      "┌ Info: Recompiling stale cache file C:\\Users\\Zubu\\.julia\\compiled\\v1.0\\Flux\\QdkVy.ji for Flux [587475ba-b771-5e3f-ad9e-33799f191a9c]\n",
      "└ @ Base loading.jl:1190\n"
     ]
    },
    {
     "data": {
      "text/plain": [
       "dostuff (generic function with 1 method)"
      ]
     },
     "execution_count": 2,
     "metadata": {},
     "output_type": "execute_result"
    }
   ],
   "source": [
    "using Flux\n",
    "using Images\n",
    "using Statistics # To find the mean\n",
    "\n",
    "# We will use this image as our training data as it will be the same for keras and flux\n",
    "img = load(\"G:\\\\Book-Cover-Test\\\\img20.png\")\n",
    "\n",
    "# Flux expects the data to be in the format of (pixle_data, pixle_data, channels, samples)\n",
    "# Currently the data is in the form of (channels, pixle_data, pixle_data, )\n",
    "# we need to reshape it and add an extra dimention.\n",
    "img = permutedims(channelview(img), (2,3,1))\n",
    "img = Float32.(img)\n",
    "\n",
    "# To add another dimention we are creating another array with the correct data size \n",
    "# and we're gonna add the image to this data array\n",
    "data = Array{Float32}(undef, 500,425,3,1)\n",
    "data[:,:,:,1] = img\n",
    "\n",
    "# Some models, like the dense and the lstm model, work better if the data is flattend\n",
    "# so we define another array with the correct dimentions and add the data\n",
    "# flatening the data is analogous removing all the square brackets and putting everyting in a single\n",
    "# array, all the pixle values just lined up in a vector.\n",
    "flatdata = Array{Float32}(undef, 500*425*3,1)\n",
    "flatdata[:,1] = reshape(img, 500*425*3)\n",
    "\n",
    "\n",
    "# This function will take the data and model and run the data\n",
    "# through the model 10 times and take the average of the times to \n",
    "# get a reliable value.\n",
    "function dostuff(f, d)\n",
    "    times = []\n",
    "    for _ in 1:10\n",
    "        t = @elapsed f(d)\n",
    "        push!(times,t)\n",
    "    end\n",
    "    return mean(times)\n",
    "end\n"
   ]
  },
  {
   "cell_type": "markdown",
   "metadata": {},
   "source": [
    "# Defining and Running the model"
   ]
  },
  {
   "cell_type": "code",
   "execution_count": 38,
   "metadata": {},
   "outputs": [
    {
     "data": {
      "text/plain": [
       "0.20339787009999996"
      ]
     },
     "execution_count": 38,
     "metadata": {},
     "output_type": "execute_result"
    }
   ],
   "source": [
    "\n",
    "Conv_model = Chain(\n",
    "            Conv((10,10), 3=>100,pad=(1,1),stride=(3,3), relu)\n",
    ")\n",
    "dostuff(Conv_model, data)\n"
   ]
  },
  {
   "cell_type": "code",
   "execution_count": 53,
   "metadata": {},
   "outputs": [
    {
     "data": {
      "text/plain": [
       "0.0014615401000000001"
      ]
     },
     "execution_count": 53,
     "metadata": {},
     "output_type": "execute_result"
    }
   ],
   "source": [
    "\n",
    "Maxpool_model = Chain(\n",
    "            MaxPool((100,100))\n",
    ")\n",
    "dostuff(Maxpool_model,data)\n"
   ]
  },
  {
   "cell_type": "code",
   "execution_count": 52,
   "metadata": {},
   "outputs": [
    {
     "data": {
      "text/plain": [
       "0.0015527497"
      ]
     },
     "execution_count": 52,
     "metadata": {},
     "output_type": "execute_result"
    }
   ],
   "source": [
    "Meanpool_model = Chain(\n",
    "            MeanPool((100,100))\n",
    ")\n",
    "dostuff(Meanpool_model,data)"
   ]
  },
  {
   "cell_type": "code",
   "execution_count": 3,
   "metadata": {},
   "outputs": [
    {
     "data": {
      "text/plain": [
       "0.14178723059999998"
      ]
     },
     "execution_count": 3,
     "metadata": {},
     "output_type": "execute_result"
    }
   ],
   "source": [
    "\n",
    "Depthwise_model = Chain(\n",
    "    DepthwiseConv((10,10), 3=>3,pad=(1,1), stride=(3,3),relu)\n",
    ")\n",
    "dostuff(Depthwise_model,data)\n"
   ]
  },
  {
   "cell_type": "code",
   "execution_count": 42,
   "metadata": {},
   "outputs": [
    {
     "data": {
      "text/plain": [
       "4.8200052096"
      ]
     },
     "execution_count": 42,
     "metadata": {},
     "output_type": "execute_result"
    }
   ],
   "source": [
    "ConvTranspose_model = Chain(\n",
    "            ConvTranspose((10,10), 3=>36,pad=(1,1), stride=(3,3), relu)\n",
    ")\n",
    "dostuff(ConvTranspose_model,data)\n"
   ]
  },
  {
   "cell_type": "code",
   "execution_count": 43,
   "metadata": {},
   "outputs": [
    {
     "data": {
      "text/plain": [
       "0.42018791999999994"
      ]
     },
     "execution_count": 43,
     "metadata": {},
     "output_type": "execute_result"
    }
   ],
   "source": [
    "CrossCor_model= Chain(\n",
    "            CrossCor((10,10), 3=>100,pad=(1,1), relu)\n",
    ")\n",
    "dostuff(CrossCor_model,data)\n"
   ]
  },
  {
   "cell_type": "code",
   "execution_count": 46,
   "metadata": {},
   "outputs": [
    {
     "data": {
      "text/plain": [
       "0.1382069398"
      ]
     },
     "execution_count": 46,
     "metadata": {},
     "output_type": "execute_result"
    }
   ],
   "source": [
    "BatchNorm_model = Chain(\n",
    "            Conv((5,5), 3=>40,pad=(1,1), relu),\n",
    "            BatchNorm(40, relu)\n",
    ")\n",
    "dostuff(BatchNorm_model,data)"
   ]
  },
  {
   "cell_type": "code",
   "execution_count": 51,
   "metadata": {},
   "outputs": [
    {
     "data": {
      "text/plain": [
       "0.05176838"
      ]
     },
     "execution_count": 51,
     "metadata": {},
     "output_type": "execute_result"
    }
   ],
   "source": [
    "\n",
    "Dropout_model = Chain(\n",
    "            Dense(500*425*3, 100, relu),\n",
    "            Dropout(0.5),\n",
    "            Dense(100, 10, relu),\n",
    ")\n",
    "dostuff(Dropout_model,flatdata)\n"
   ]
  },
  {
   "cell_type": "code",
   "execution_count": 48,
   "metadata": {},
   "outputs": [
    {
     "data": {
      "text/plain": [
       "0.0231401701"
      ]
     },
     "execution_count": 48,
     "metadata": {},
     "output_type": "execute_result"
    }
   ],
   "source": [
    "Dense_model = Chain(\n",
    "                Dense(500*425*3,20, relu)\n",
    ")\n",
    "dostuff(Dense_model,flatdata)\n"
   ]
  },
  {
   "cell_type": "code",
   "execution_count": 49,
   "metadata": {},
   "outputs": [
    {
     "data": {
      "text/plain": [
       "0.007619559699999999"
      ]
     },
     "execution_count": 49,
     "metadata": {},
     "output_type": "execute_result"
    }
   ],
   "source": [
    "\n",
    "LSTM_model = Chain(\n",
    "    LSTM(500*425*3,3)\n",
    ")\n",
    "dostuff(LSTM_model,flatdata)\n"
   ]
  },
  {
   "cell_type": "code",
   "execution_count": 50,
   "metadata": {},
   "outputs": [
    {
     "data": {
      "text/plain": [
       "0.0028059902000000005"
      ]
     },
     "execution_count": 50,
     "metadata": {},
     "output_type": "execute_result"
    }
   ],
   "source": [
    "RNN_model = Chain(\n",
    "                RNN(500*425*3,3)\n",
    ")\n",
    "dostuff(RNN_model,flatdata)\n"
   ]
  },
  {
   "cell_type": "code",
   "execution_count": 61,
   "metadata": {},
   "outputs": [
    {
     "data": {
      "text/plain": [
       "0.007091450000000001"
      ]
     },
     "execution_count": 61,
     "metadata": {},
     "output_type": "execute_result"
    }
   ],
   "source": [
    "GRU_model = Chain(\n",
    "    GRU(500*425*3,3)\n",
    ")\n",
    "dostuff(GRU_model,flatdata)\n"
   ]
  },
  {
   "cell_type": "code",
   "execution_count": null,
   "metadata": {},
   "outputs": [],
   "source": []
  },
  {
   "cell_type": "code",
   "execution_count": null,
   "metadata": {},
   "outputs": [],
   "source": []
  }
 ],
 "metadata": {
  "@webio": {
   "lastCommId": null,
   "lastKernelId": null
  },
  "kernelspec": {
   "display_name": "Julia 1.0.5",
   "language": "julia",
   "name": "julia-1.0"
  },
  "language_info": {
   "file_extension": ".jl",
   "mimetype": "application/julia",
   "name": "julia",
   "version": "1.0.5"
  }
 },
 "nbformat": 4,
 "nbformat_minor": 2
}
