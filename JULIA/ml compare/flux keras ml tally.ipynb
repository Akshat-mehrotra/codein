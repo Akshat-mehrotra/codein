{
 "cells": [
  {
   "cell_type": "markdown",
   "metadata": {},
   "source": [
    "| name          | Time in Flux (s)      | Time in Keras (s)    |\n",
    "|---------------|-----------------------|----------------------|\n",
    "| Conv          | 0.20339787009999996   | 0.04158930778503418  |\n",
    "| maxpool       | 0.0014615401000000001 | 0.1472097635269165   |\n",
    "| meanpool      | 0.0015527497          | 0.034908509254455565 |\n",
    "| Depthwise     | 0.14178723059999998   | 0.024235057830810546 |\n",
    "| ConvTranspose | 4.8200052096          | 0.4508960247039795   |\n",
    "| CrossCor      | 0.42018791999999994   |                      |\n",
    "| BatchNorm     | 0.1382069398          | 0.03690392971038818  |\n",
    "| Dropout       | 0.05176838            | 0.02921903133392334  |\n",
    "| Dense         | 0.0231401701          | 0.03011906147003174  |\n",
    "| LSTM          | 0.007619559699999999  | 2.714402604103088    |\n",
    "| RNN           | 0.0028059902000000005 | 2.211240553855896    |\n",
    "| GRU           | 0.007091450000000001  | 3.1127854585647583   |"
   ]
  },
  {
   "cell_type": "code",
   "execution_count": null,
   "metadata": {},
   "outputs": [],
   "source": []
  }
 ],
 "metadata": {
  "kernelspec": {
   "display_name": "Julia 1.0.5",
   "language": "julia",
   "name": "julia-1.0"
  },
  "language_info": {
   "file_extension": ".jl",
   "mimetype": "application/julia",
   "name": "julia",
   "version": "1.0.5"
  }
 },
 "nbformat": 4,
 "nbformat_minor": 2
}
