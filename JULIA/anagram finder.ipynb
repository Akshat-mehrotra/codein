{
 "cells": [
  {
   "cell_type": "code",
   "execution_count": null,
   "metadata": {},
   "outputs": [],
   "source": [
    "using HTTP"
   ]
  },
  {
   "cell_type": "code",
   "execution_count": null,
   "metadata": {},
   "outputs": [],
   "source": [
    "function is_anagram(word1,word2)\n",
    "    # generic method : sort then compair\n",
    "    return sort([x for x in lowercase(word1)]) == sort([x for x in lowercase(word2)]) ? true : false\n",
    "end\n"
   ]
  },
  {
   "cell_type": "code",
   "execution_count": null,
   "metadata": {},
   "outputs": [],
   "source": [
    "words_nonreadable = String(HTTP.request(\"GET\",\"https://github.com/tk3369/words/raw/master/words.txt\").body)\n",
    "words = split(lowercase(words_nonreadable),\"\\n\")"
   ]
  },
  {
   "cell_type": "code",
   "execution_count": null,
   "metadata": {},
   "outputs": [],
   "source": [
    "function find_anagrams(word1, word_list)\n",
    "    anas = []\n",
    "    for x in word_list \n",
    "        is_anagram(x, word1) && push!(anas,x)\n",
    "    end\n",
    "    return anas\n",
    "end\n",
    "\n",
    "find_anagrams(\"iceman\", words)"
   ]
  }
 ],
 "metadata": {
  "kernelspec": {
   "display_name": "Julia 1.3.0",
   "language": "julia",
   "name": "julia-1.3"
  },
  "language_info": {
   "file_extension": ".jl",
   "mimetype": "application/julia",
   "name": "julia",
   "version": "1.3.0"
  }
 },
 "nbformat": 4,
 "nbformat_minor": 2
}
