{
 "cells": [
  {
   "cell_type": "code",
   "execution_count": 1,
   "metadata": {},
   "outputs": [],
   "source": [
    "using HTTP"
   ]
  },
  {
   "cell_type": "code",
   "execution_count": 2,
   "metadata": {},
   "outputs": [
    {
     "data": {
      "text/plain": [
       "is_anagram (generic function with 1 method)"
      ]
     },
     "execution_count": 2,
     "metadata": {},
     "output_type": "execute_result"
    }
   ],
   "source": [
    "function is_anagram(word1,word2)\n",
    "    # generic method : sort then compair\n",
    "    return sort([x for x in lowercase(word1)]) == sort([x for x in lowercase(word2)]) ? true : false\n",
    "end\n"
   ]
  },
  {
   "cell_type": "code",
   "execution_count": null,
   "metadata": {},
   "outputs": [],
   "source": [
    "words_nonreadable = String(HTTP.request(\"GET\",\"https://github.com/tk3369/words/raw/master/words.txt\").body)\n",
    "words = split(lowercase(words_nonreadable),\"\\n\")"
   ]
  },
  {
   "cell_type": "code",
   "execution_count": 4,
   "metadata": {},
   "outputs": [
    {
     "data": {
      "text/plain": [
       "find_anagrams (generic function with 1 method)"
      ]
     },
     "execution_count": 4,
     "metadata": {},
     "output_type": "execute_result"
    }
   ],
   "source": [
    "function find_anagrams(word1, word_list)\n",
    "    anas = []\n",
    "    for x in word_list \n",
    "        is_anagram(x, word1) && push!(anas,x)\n",
    "    end\n",
    "    return anas\n",
    "end\n",
    "\n"
   ]
  },
  {
   "cell_type": "code",
   "execution_count": 8,
   "metadata": {},
   "outputs": [
    {
     "name": "stdout",
     "output_type": "stream",
     "text": [
      "Any[\"anemic\", \"cinema\", \"iceman\"]\n",
      "Any[\"hello\"]\n"
     ]
    }
   ],
   "source": [
    "println(find_anagrams(\"iceman\", words))\n",
    "println(find_anagrams(\"hello\", words))"
   ]
  },
  {
   "cell_type": "code",
   "execution_count": null,
   "metadata": {},
   "outputs": [],
   "source": []
  }
 ],
 "metadata": {
  "kernelspec": {
   "display_name": "Julia 1.3.0",
   "language": "julia",
   "name": "julia-1.3"
  },
  "language_info": {
   "file_extension": ".jl",
   "mimetype": "application/julia",
   "name": "julia",
   "version": "1.3.0"
  }
 },
 "nbformat": 4,
 "nbformat_minor": 2
}
