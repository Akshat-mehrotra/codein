{
 "cells": [
  {
   "cell_type": "markdown",
   "metadata": {},
   "source": [
    "# Makie Plot Attributes\n",
    "this file demonstrates the usage of most of the attributes of makie\n",
    "### http://makie.juliaplots.org/stable/plot-attributes.html\n",
    "- color\n",
    "- colorrange\n",
    "- linestyle\n",
    "- linewidth\n",
    "- align\n",
    "- pos\n",
    "- textsize\n",
    "- rotation\n",
    "- shading\n",
    "- markersize\n",
    "- strokecolor\n",
    "- strokewidth\n",
    "- glowcolor\n",
    "- glowwidth\n",
    "- marker\n",
    "- marker_offset\n",
    "- visible\n",
    "- interpolate\n",
    "- absorption\n",
    "- algorithm\n",
    "- levels\n",
    "- isorange\n",
    "- isovalue"
   ]
  },
  {
   "cell_type": "code",
   "execution_count": 31,
   "metadata": {},
   "outputs": [
    {
     "data": {
      "text/plain": [
       "500×334 Array{Float32,2}:\n",
       " 0.592157  0.6       0.596078   0.592157  …  0.603922  0.564706  0.623529\n",
       " 0.603922  0.32549   0.156863   0.160784     0.164706  0.168627  0.27451 \n",
       " 0.627451  0.282353  0.133333   0.196078     0.176471  0.176471  0.247059\n",
       " 0.596078  0.317647  0.168627   0.188235     0.188235  0.164706  0.243137\n",
       " 0.596078  0.34902   0.141176   0.152941     0.156863  0.14902   0.286275\n",
       " 0.560784  0.317647  0.121569   0.14902   …  0.168627  0.176471  0.27451 \n",
       " 0.623529  0.341176  0.145098   0.156863     0.176471  0.168627  0.223529\n",
       " 0.6       0.301961  0.14902    0.172549     0.152941  0.145098  0.282353\n",
       " 0.6       0.352941  0.145098   0.192157     0.160784  0.152941  0.266667\n",
       " 0.592157  0.34902   0.137255   0.184314     0.160784  0.160784  0.25098 \n",
       " 0.592157  0.34902   0.141176   0.180392  …  0.160784  0.164706  0.25098 \n",
       " 0.596078  0.356863  0.14902    0.188235     0.164706  0.145098  0.266667\n",
       " 0.6       0.356863  0.14902    0.188235     0.164706  0.14902   0.262745\n",
       " ⋮                                        ⋱                              \n",
       " 0.611765  0.305882  0.101961   0.117647     0.176471  0.180392  0.270588\n",
       " 0.611765  0.294118  0.0823529  0.117647     0.152941  0.141176  0.254902\n",
       " 0.607843  0.294118  0.0823529  0.117647  …  0.164706  0.145098  0.266667\n",
       " 0.607843  0.309804  0.109804   0.117647     0.160784  0.160784  0.25098 \n",
       " 0.603922  0.309804  0.113725   0.121569     0.164706  0.164706  0.254902\n",
       " 0.603922  0.298039  0.0941177  0.121569     0.168627  0.152941  0.27451 \n",
       " 0.603922  0.298039  0.0980392  0.121569     0.14902   0.141176  0.258824\n",
       " 0.6       0.313726  0.121569   0.12549   …  0.168627  0.176471  0.270588\n",
       " 0.6       0.321569  0.129412   0.156863     0.172549  0.160784  0.25098 \n",
       " 0.611765  0.313726  0.0941177  0.12549      0.180392  0.176471  0.262745\n",
       " 0.592157  0.309804  0.0901961  0.121569     0.172549  0.164706  0.247059\n",
       " 0.647059  0.423529  0.247059   0.266667     0.329412  0.317647  0.388235"
      ]
     },
     "execution_count": 31,
     "metadata": {},
     "output_type": "execute_result"
    }
   ],
   "source": [
    "using Makie\n",
    "using Images\n",
    "using GeometryTypes\n",
    "\n",
    "img = Gray.(load(\"G:\\\\Book-Cover-Train\\\\img2.png\"))\n",
    "img = Float32.(channelview(img))\n"
   ]
  },
  {
   "cell_type": "code",
   "execution_count": 32,
   "metadata": {},
   "outputs": [
    {
     "data": {
      "text/plain": [
       "GLMakie.Screen(...)"
      ]
     },
     "execution_count": 32,
     "metadata": {},
     "output_type": "execute_result"
    }
   ],
   "source": [
    "\n",
    "# shading\n",
    "scene = mesh(\n",
    "    HyperRectangle(Vec3f0(1, 1, 1), Vec3f0(1, 1, 3)),\n",
    "    color = (:green, 0.4),\n",
    "    show_axis = false,\n",
    "    shading = false,\n",
    "    center = false,\n",
    ")\n",
    "display(scene)\n"
   ]
  },
  {
   "cell_type": "code",
   "execution_count": 33,
   "metadata": {},
   "outputs": [
    {
     "data": {
      "text/plain": [
       "GLMakie.Screen(...)"
      ]
     },
     "execution_count": 33,
     "metadata": {},
     "output_type": "execute_result"
    }
   ],
   "source": [
    "\n",
    "# colormap, color, colorrange, linestyle, linewidth, align, pos, textsize, rotation\n",
    "\n",
    "scene = Scene()\n",
    "y = 200 * rand(300)\n",
    "x = range(0, 600, length = 300)\n",
    "c = range(1, stop = 0, length = 600)\n",
    "lines!(\n",
    "    scene,\n",
    "    x,\n",
    "    y,\n",
    "    colormap = :BuPu,\n",
    "    color = c,\n",
    "    colorrange=(1,0.5),\n",
    "    linestyle = :dashdotdot,\n",
    "    linewidth = 3.0,\n",
    ")\n",
    "text!(\n",
    "    scene,\n",
    "    \"Red Dead Redemption 2 is the best game ever!\",\n",
    "    align = (:left, :center),\n",
    "    position = (0, -100),\n",
    "    color = :red,\n",
    "    font = \"Blackchancery\",\n",
    "    textsize = 70,\n",
    "    rotation = pi / 6,\n",
    ")\n",
    "display(scene)\n"
   ]
  },
  {
   "cell_type": "code",
   "execution_count": 34,
   "metadata": {},
   "outputs": [
    {
     "data": {
      "text/plain": [
       "GLMakie.Screen(...)"
      ]
     },
     "execution_count": 34,
     "metadata": {},
     "output_type": "execute_result"
    }
   ],
   "source": [
    "\n",
    "# markersize, strokecolor, strokewidth, glowcolor, glowwidth, marker, marker_offset\n",
    "scene = Scene()\n",
    "points = Point2f0[(i, i) for i = 1:6]\n",
    "offset = rand(Point2f0, length(points)) ./ 5\n",
    "scatter!(\n",
    "    scene,\n",
    "    points,\n",
    "    color = :gray,\n",
    "    markersize = 0.2,\n",
    "    strokecolor = :pink,\n",
    "    strokewidth = 8,\n",
    "    marker = :x,\n",
    ")\n",
    "scatter!(\n",
    "    scene,\n",
    "    points,\n",
    "    glowcolor = :red,\n",
    "    color = :black,\n",
    "    marker_offset = offset,\n",
    "    markersize = 1,\n",
    "    glowwidth = 5.0,\n",
    "    marker = :+,\n",
    ")\n",
    "display(scene)\n"
   ]
  },
  {
   "cell_type": "code",
   "execution_count": 41,
   "metadata": {},
   "outputs": [
    {
     "data": {},
     "execution_count": 41,
     "metadata": {},
     "output_type": "execute_result"
    }
   ],
   "source": [
    "\n",
    "# visible\n",
    "scene = Scene()\n",
    "y = rand(3)\n",
    "scatter!(scene, y, visible = false)\n",
    "text!(\n",
    "    scene,\n",
    "    \"The above plot is not visible!\",\n",
    ")\n",
    "display(scene)\n",
    "\n",
    "scene = Scene()\n"
   ]
  },
  {
   "cell_type": "code",
   "execution_count": 40,
   "metadata": {},
   "outputs": [
    {
     "data": {
      "text/plain": [
       "GLMakie.Screen(...)"
      ]
     },
     "execution_count": 40,
     "metadata": {},
     "output_type": "execute_result"
    }
   ],
   "source": [
    "\n",
    "# interpolate\n",
    "im = Gray.(load(\"G:\\\\Book-Cover-Train\\\\img2.png\")) # can accept rgb values so no need to change\n",
    "heatmap!(scene, (channelview(im)), interpolate = true)\n",
    "display(scene)\n"
   ]
  },
  {
   "cell_type": "code",
   "execution_count": 37,
   "metadata": {
    "scrolled": true
   },
   "outputs": [
    {
     "ename": "LoadError",
     "evalue": "syntax: unexpected \")\"",
     "output_type": "error",
     "traceback": [
      "syntax: unexpected \")\"",
      ""
     ]
    }
   ],
   "source": [
    "\n",
    "# absorption, algo\n",
    "scene = Scene()\n",
    "volume!(scene, rand(50, 50, 50), algorithm = :absorption, absorption = 7.0f0)\n",
    "display(scene)\n",
    ")\n"
   ]
  },
  {
   "cell_type": "code",
   "execution_count": 54,
   "metadata": {
    "scrolled": true
   },
   "outputs": [
    {
     "data": {
      "text/plain": [
       "GLMakie.Screen(...)"
      ]
     },
     "execution_count": 54,
     "metadata": {},
     "output_type": "execute_result"
    }
   ],
   "source": [
    "#isorange, isovalue\n",
    "scene = Scene()\n",
    "img = (load(\"G:\\\\Book-Cover-Train\\\\img2.png\"))\n",
    "img = Float32.(channelview(img))\n",
    "volume!(scene, img, isorange = 0.012f0, isovalue = 0.3f0)\n",
    "display(scene)"
   ]
  },
  {
   "cell_type": "code",
   "execution_count": 39,
   "metadata": {},
   "outputs": [
    {
     "data": {
      "text/plain": [
       "GLMakie.Screen(...)"
      ]
     },
     "execution_count": 39,
     "metadata": {},
     "output_type": "execute_result"
    }
   ],
   "source": [
    "# levels\n",
    "N = 20\n",
    "x = range(-0.5, stop = 0.5, length = N)\n",
    "y = range(-0.5, stop = 0.5, length = N)\n",
    "z = x .* y'\n",
    "a = contour(x, y, z, levels = 100, colormap = :magma, fillrange = true)\n",
    "display(a)\n"
   ]
  },
  {
   "cell_type": "code",
   "execution_count": null,
   "metadata": {},
   "outputs": [],
   "source": []
  },
  {
   "cell_type": "code",
   "execution_count": null,
   "metadata": {},
   "outputs": [],
   "source": []
  },
  {
   "cell_type": "code",
   "execution_count": null,
   "metadata": {},
   "outputs": [],
   "source": []
  }
 ],
 "metadata": {
  "@webio": {
   "lastCommId": null,
   "lastKernelId": null
  },
  "kernelspec": {
   "display_name": "Julia 1.0.5",
   "language": "julia",
   "name": "julia-1.0"
  },
  "language_info": {
   "file_extension": ".jl",
   "mimetype": "application/julia",
   "name": "julia",
   "version": "1.0.5"
  }
 },
 "nbformat": 4,
 "nbformat_minor": 2
}
