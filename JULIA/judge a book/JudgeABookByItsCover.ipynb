{
 "cells": [
  {
   "cell_type": "code",
   "execution_count": 18,
   "metadata": {},
   "outputs": [
    {
     "data": {
      "text/plain": [
       "5"
      ]
     },
     "execution_count": 18,
     "metadata": {},
     "output_type": "execute_result"
    }
   ],
   "source": [
    "using Flux\n",
    "using Flux: @epochs, onehotbatch, crossentropy, throttle\n",
    "using Images\n",
    "using FileIO\n",
    "using CSV\n",
    "using Statistics\n",
    "\n",
    "train_path = \"G:\\\\Book-Cover-Train\\\\\"\n",
    "train_csv = \"F:\\\\book-dataset\\\\Task1\\\\book30-listing-train.csv\"\n",
    "\n",
    "test_path = \"G:\\\\Book-Cover-Test\\\\\"\n",
    "test_csv = \"F:\\\\book-dataset\\\\Task1\\\\book30-listing-test.csv\"\n",
    "\n",
    "train_imglist = readdir(train_path)\n",
    "test_imglist = readdir(test_path)\n",
    "\n",
    "train_setsize = length(train_imglist)\n",
    "test_setsize = length(test_imglist)\n",
    "\n",
    "batch_size = 5"
   ]
  },
  {
   "cell_type": "code",
   "execution_count": 19,
   "metadata": {},
   "outputs": [
    {
     "data": {
      "text/plain": [
       "create_dataset (generic function with 2 methods)"
      ]
     },
     "execution_count": 19,
     "metadata": {},
     "output_type": "execute_result"
    }
   ],
   "source": [
    "\n",
    "function create_dataset(indexs; path, csv, images)\n",
    "    dataset = CSV.read(csv)\n",
    "    X = Array{Float32}(undef, 100, 100, 3, length(indexs))\n",
    "    for i = 1:length(indexs)\n",
    "        img = load(string(path, images[i]))\n",
    "        img = channelview(imresize(img, 100, 100))\n",
    "        img = Float32.(permutedims(img, (2, 3, 1)))\n",
    "        X[:, :, :, i] = img\n",
    "    end\n",
    "    Y = onehotbatch(dataset[indexs[1]:indexs[end], 6], 0:29)\n",
    "    return (X, Y)\n",
    "end\n"
   ]
  },
  {
   "cell_type": "code",
   "execution_count": 20,
   "metadata": {},
   "outputs": [
    {
     "data": {
      "text/plain": [
       "(Float32[0.0 0.0 … 0.0 0.0; 0.0 0.0 … 0.0 0.0; … ; 0.980392 0.964706 … 0.921569 1.0; 1.0 0.996078 … 0.996078 0.952941]\n",
       "\n",
       "Float32[0.364706 0.364706 … 0.364706 0.364706; 0.364706 0.364706 … 0.364706 0.364706; … ; 0.705882 0.482353 … 0.537255 0.772549; 0.811765 0.819608 … 0.505882 0.513726]\n",
       "\n",
       "Float32[0.568627 0.568627 … 0.568627 0.568627; 0.568627 0.568627 … 0.568627 0.568627; … ; 0.164706 0.164706 … 0.101961 0.227451; 0.180392 0.192157 … 0.192157 0.219608]\n",
       "\n",
       "Float32[0.517647 0.517647 … 0.411765 0.388235; 0.52549 0.521569 … 0.411765 0.419608; … ; 0.109804 0.105882 … 0.376471 0.364706; 0.101961 0.0901961 … 0.180392 0.160784]\n",
       "\n",
       "Float32[0.490196 0.490196 … 0.407843 0.384314; 0.486275 0.486275 … 0.407843 0.415686; … ; 0.14902 0.145098 … 0.380392 0.368627; 0.145098 0.133333 … 0.2 0.192157]\n",
       "\n",
       "Float32[0.458824 0.45098 … 0.392157 0.368627; 0.45098 0.458824 … 0.392157 0.4; … ; 0.156863 0.152941 … 0.388235 0.376471; 0.152941 0.141176 … 0.211765 0.2]\n",
       "\n",
       "Float32[0.952941 0.94902 … 0.952941 0.952941; 0.94902 0.956863 … 0.952941 0.952941; … ; 0.929412 0.972549 … 0.172549 0.380392; 0.839216 0.556863 … 0.109804 0.227451]\n",
       "\n",
       "Float32[0.941177 0.937255 … 0.952941 0.952941; 0.933333 0.941177 … 0.952941 0.952941; … ; 0.74902 0.776471 … 0.282353 0.666667; 0.694118 0.423529 … 0.341176 0.392157]\n",
       "\n",
       "Float32[0.905882 0.901961 … 0.921569 0.921569; 0.898039 0.905882 … 0.921569 0.921569; … ; 0.372549 0.333333 … 0.490196 0.760784; 0.490196 0.223529 … 0.380392 0.505882]\n",
       "\n",
       "...\n",
       "\n",
       "Float32[0.647059 0.647059 … 0.647059 0.647059; 0.647059 0.647059 … 0.647059 0.647059; … ; 0.647059 0.647059 … 0.647059 0.647059; 0.647059 0.647059 … 0.647059 0.647059]\n",
       "\n",
       "Float32[0.8 0.8 … 0.8 0.8; 0.8 0.8 … 0.8 0.8; … ; 0.8 0.8 … 0.8 0.8; 0.8 0.8 … 0.8 0.8]\n",
       "\n",
       "Float32[0.301961 0.301961 … 0.301961 0.301961; 0.301961 0.301961 … 0.301961 0.301961; … ; 0.301961 0.301961 … 0.301961 0.301961; 0.301961 0.301961 … 0.301961 0.301961]\n",
       "\n",
       "Float32[0.121569 0.113725 … 0.152941 0.156863; 0.121569 0.12549 … 0.152941 0.160784; … ; 0.309804 0.286275 … 0.388235 0.47451; 0.301961 0.27451 … 0.419608 0.517647]\n",
       "\n",
       "Float32[0.415686 0.407843 … 0.466667 0.470588; 0.435294 0.439216 … 0.486275 0.482353; … ; 0.435294 0.411765 … 0.533333 0.619608; 0.427451 0.4 … 0.537255 0.631373]\n",
       "\n",
       "Float32[0.541176 0.533333 … 0.588235 0.576471; 0.580392 0.584314 … 0.607843 0.592157; … ; 0.486275 0.462745 … 0.564706 0.639216; 0.470588 0.443137 … 0.580392 0.686275]\n",
       "\n",
       "Float32[0.498039 0.501961 … 0.533333 0.552941; 0.494118 0.498039 … 0.533333 0.552941; … ; 0.352941 0.388235 … 0.364706 0.372549; 0.34902 0.4 … 0.364706 0.376471]\n",
       "\n",
       "Float32[0.847059 0.831373 … 0.843137 0.85098; 0.843137 0.827451 … 0.831373 0.85098; … ; 0.427451 0.415686 … 0.403922 0.411765; 0.415686 0.411765 … 0.403922 0.415686]\n",
       "\n",
       "Float32[0.964706 0.933333 … 0.960784 0.952941; 0.960784 0.929412 … 0.92549 0.952941; … ; 0.698039 0.690196 … 0.686275 0.682353; 0.690196 0.690196 … 0.686275 0.694118], Bool[false false … true false; false true … false false; … ; true false … false false; false false … false false])"
      ]
     },
     "execution_count": 20,
     "metadata": {},
     "output_type": "execute_result"
    }
   ],
   "source": [
    "indexs = Base.Iterators.partition(1:train_setsize, batch_size)\n",
    "train_set = [create_dataset(\n",
    "    i;\n",
    "    path = train_path,\n",
    "    csv = train_csv,\n",
    "    images = train_imglist,\n",
    ") for i in indexs]\n",
    "\n",
    "test_set = create_dataset(\n",
    "    1:test_setsize;\n",
    "    path = test_path,\n",
    "    csv = test_csv,\n",
    "    images = test_imglist,\n",
    ")"
   ]
  },
  {
   "cell_type": "code",
   "execution_count": 14,
   "metadata": {},
   "outputs": [
    {
     "data": {
      "text/plain": [
       "Chain(Conv((3, 3), 3=>32, NNlib.relu), MaxPool((2, 2), pad = (0, 0, 0, 0), stride = (2, 2)), Conv((3, 3), 32=>64, NNlib.relu), MaxPool((2, 2), pad = (0, 0, 0, 0), stride = (2, 2)), Conv((3, 3), 64=>256, NNlib.relu), MaxPool((2, 2), pad = (0, 0, 0, 0), stride = (2, 2)), Conv((2, 2), 256=>512, NNlib.relu), MaxPool((2, 2), pad = (0, 0, 0, 0), stride = (2, 2)), getfield(Main, Symbol(\"##29#30\"))(), Dense(18432, 256, NNlib.relu), Dense(256, 30), NNlib.softmax)"
      ]
     },
     "execution_count": 14,
     "metadata": {},
     "output_type": "execute_result"
    }
   ],
   "source": [
    "\n",
    "m = Chain(\n",
    "    Conv((3, 3), 3=>32, pad=(1,1), relu),\n",
    "    MaxPool((2,2)),\n",
    "\n",
    "    Conv((3, 3), 32=>64, pad=(1,1), relu),\n",
    "    MaxPool((2,2)),\n",
    "\n",
    "    Conv((3, 3), 64=>256, pad=(1,1), relu),\n",
    "    MaxPool((2,2)),\n",
    "\n",
    "    Conv((2, 2), 256=>512, pad=(1,1), relu),\n",
    "    MaxPool((2,2)),\n",
    "\n",
    "    x -> reshape(x, :, size(x, 4)),\n",
    "    Dense(18432, 256, relu),\n",
    "    Dense(256, 30),\n",
    "    softmax,\n",
    "    )\n"
   ]
  },
  {
   "cell_type": "code",
   "execution_count": 15,
   "metadata": {},
   "outputs": [
    {
     "name": "stderr",
     "output_type": "stream",
     "text": [
      "┌ Info: Epoch 1\n",
      "└ @ Main C:\\Users\\Zubu\\.julia\\packages\\Flux\\oX9Pi\\src\\optimise\\train.jl:99\n"
     ]
    },
    {
     "name": "stdout",
     "output_type": "stream",
     "text": [
      "ca = 0.05\n",
      "cl = 3.4468267f0\n",
      "ca = 0.06\n",
      "cl = 3.3383288f0\n",
      "ca = 0.06\n",
      "cl = 3.3485308f0\n",
      "ca = 0.06\n",
      "cl = 3.387577f0\n",
      "ca = 0.06\n",
      "cl = 3.383679f0\n",
      "ca = 0.06\n",
      "cl = 3.3617034f0\n",
      "ca = 0.06\n",
      "cl = 3.331149f0\n",
      "ca = 0.09\n",
      "cl = 3.315382f0\n",
      "ca = 0.07\n",
      "cl = 3.3304417f0\n",
      "ca = 0.07\n",
      "cl = 3.3429146f0\n"
     ]
    },
    {
     "name": "stderr",
     "output_type": "stream",
     "text": [
      "┌ Info: Epoch 2\n",
      "└ @ Main C:\\Users\\Zubu\\.julia\\packages\\Flux\\oX9Pi\\src\\optimise\\train.jl:99\n"
     ]
    },
    {
     "name": "stdout",
     "output_type": "stream",
     "text": [
      "ca = 0.07\n",
      "cl = 3.3417819f0\n",
      "ca = 0.07\n",
      "cl = 3.3295848f0\n",
      "ca = 0.07\n",
      "cl = 3.314111f0\n",
      "ca = 0.07\n",
      "cl = 3.3273785f0\n",
      "ca = 0.07\n",
      "cl = 3.435521f0\n",
      "ca = 0.07\n",
      "cl = 3.7068956f0\n",
      "ca = 0.09\n",
      "cl = 3.663776f0\n",
      "ca = 0.06\n",
      "cl = 3.4952502f0\n",
      "ca = 0.06\n",
      "cl = 3.3658726f0\n",
      "ca = 0.06\n",
      "cl = 3.3188617f0\n"
     ]
    },
    {
     "name": "stderr",
     "output_type": "stream",
     "text": [
      "┌ Info: Epoch 3\n",
      "└ @ Main C:\\Users\\Zubu\\.julia\\packages\\Flux\\oX9Pi\\src\\optimise\\train.jl:99\n"
     ]
    },
    {
     "name": "stdout",
     "output_type": "stream",
     "text": [
      "ca = 0.06\n",
      "cl = 3.3100328f0\n",
      "ca = 0.06\n",
      "cl = 3.3115735f0\n",
      "ca = 0.06\n",
      "cl = 3.3134732f0\n",
      "ca = 0.06\n",
      "cl = 3.3131578f0\n",
      "ca = 0.07\n",
      "cl = 3.3121734f0\n",
      "ca = 0.09\n",
      "cl = 3.3119862f0\n",
      "ca = 0.06\n",
      "cl = 3.316441f0\n",
      "ca = 0.06\n",
      "cl = 3.3287017f0\n",
      "ca = 0.07\n",
      "cl = 3.3454483f0\n",
      "ca = 0.06\n",
      "cl = 3.3763125f0\n"
     ]
    },
    {
     "name": "stderr",
     "output_type": "stream",
     "text": [
      "┌ Info: Epoch 4\n",
      "└ @ Main C:\\Users\\Zubu\\.julia\\packages\\Flux\\oX9Pi\\src\\optimise\\train.jl:99\n"
     ]
    },
    {
     "name": "stdout",
     "output_type": "stream",
     "text": [
      "ca = 0.08\n",
      "cl = 3.4224858f0\n",
      "ca = 0.06\n",
      "cl = 3.495653f0\n",
      "ca = 0.07\n",
      "cl = 3.615797f0\n",
      "ca = 0.08\n",
      "cl = 3.7969654f0\n",
      "ca = 0.08\n",
      "cl = 3.7024605f0\n",
      "ca = 0.06\n",
      "cl = 3.608518f0\n",
      "ca = 0.06\n",
      "cl = 3.5169275f0\n",
      "ca = 0.06\n",
      "cl = 3.4308205f0\n",
      "ca = 0.07\n",
      "cl = 3.3695858f0\n",
      "ca = 0.08\n",
      "cl = 3.3448803f0\n"
     ]
    },
    {
     "name": "stderr",
     "output_type": "stream",
     "text": [
      "┌ Info: Epoch 5\n",
      "└ @ Main C:\\Users\\Zubu\\.julia\\packages\\Flux\\oX9Pi\\src\\optimise\\train.jl:99\n"
     ]
    },
    {
     "name": "stdout",
     "output_type": "stream",
     "text": [
      "ca = 0.08\n",
      "cl = 3.3348541f0\n",
      "ca = 0.07\n",
      "cl = 3.3304186f0\n",
      "ca = 0.07\n",
      "cl = 3.3316631f0\n",
      "ca = 0.06\n",
      "cl = 3.3414712f0\n",
      "ca = 0.06\n",
      "cl = 3.3555548f0\n",
      "ca = 0.06\n",
      "cl = 3.3886023f0\n",
      "ca = 0.05\n",
      "cl = 3.474331f0\n",
      "ca = 0.06\n",
      "cl = 3.4434056f0\n",
      "ca = 0.06\n",
      "cl = 3.404199f0\n",
      "ca = 0.07\n",
      "cl = 3.4042158f0\n"
     ]
    }
   ],
   "source": [
    "loss(x, y) = crossentropy(m(x), y)\n",
    "accuracy(x, y) = mean(Flux.onecold(m(x)) .== Flux.onecold(y))\n",
    "\n",
    "function cbfunc()\n",
    "    ca = accuracy(test_set...)\n",
    "    @show(ca)\n",
    "    cl = loss(test_set...)\n",
    "    @show(cl)\n",
    "end\n",
    "\n",
    "opt = ADAM()\n",
    "@epochs 5 Flux.train!(loss, params(m), train_set, opt, cb=cbfunc)\n"
   ]
  },
  {
   "cell_type": "code",
   "execution_count": null,
   "metadata": {},
   "outputs": [],
   "source": []
  }
 ],
 "metadata": {
  "@webio": {
   "lastCommId": null,
   "lastKernelId": null
  },
  "kernelspec": {
   "display_name": "Julia 1.0.5",
   "language": "julia",
   "name": "julia-1.0"
  },
  "language_info": {
   "file_extension": ".jl",
   "mimetype": "application/julia",
   "name": "julia",
   "version": "1.0.5"
  }
 },
 "nbformat": 4,
 "nbformat_minor": 2
}
