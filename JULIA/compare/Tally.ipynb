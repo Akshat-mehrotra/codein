{
 "cells": [
  {
   "cell_type": "markdown",
   "metadata": {},
   "source": [
    "| Name | Time by Skimage (s)| Time by Images (s)|\n",
    "| --- | --- | --- |\n",
    "| Reading | 0.0024 | 0.0225 |\n",
    "| Saving | 0.0478 | 0.3131 |\n",
    "| Canny E.D. | 0.0466 | 0.164 |\n",
    "| Resize | 0.0919 | 0.0074 |\n",
    "| Integral | 0.0008 | 0.0124 |\n",
    "| Harris | 0.0232 | 0.1655 |\n",
    "| TopHat | 0.0213 | 0.0121 |\n",
    "| Gaussian B. | 0.0072 | 0.0815 |\n",
    "| Mean | 0.3097 | 0.0071 |\n",
    "| Min. | 0.2957 | 0.0005 |\n",
    "| To Float | 0.001 | 0.0021 |\n",
    "| Entropy | 0.7098 | 0.0381 |\n",
    "| Gaussian P. | 2e-06 | 0.0642 |"
   ]
  }
 ],
 "metadata": {
  "kernelspec": {
   "display_name": "Python 3",
   "language": "python",
   "name": "python3"
  },
  "language_info": {
   "codemirror_mode": {
    "name": "ipython",
    "version": 3
   },
   "file_extension": ".py",
   "mimetype": "text/x-python",
   "name": "python",
   "nbconvert_exporter": "python",
   "pygments_lexer": "ipython3",
   "version": "3.7.4"
  }
 },
 "nbformat": 4,
 "nbformat_minor": 2
}
